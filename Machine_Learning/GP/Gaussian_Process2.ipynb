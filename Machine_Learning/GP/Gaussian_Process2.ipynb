{
 "cells": [
  {
   "cell_type": "markdown",
   "metadata": {},
   "source": [
    "Largely taken from James Dawson at https://spacemeerkat.wordpress.com/"
   ]
  },
  {
   "cell_type": "code",
   "execution_count": 1,
   "metadata": {},
   "outputs": [],
   "source": [
    "import numpy as np\n",
    "import matplotlib.pyplot as plt\n",
    "import math\n",
    "from scipy.spatial.distance import cdist\n",
    "from random import shuffle"
   ]
  },
  {
   "cell_type": "code",
   "execution_count": 2,
   "metadata": {},
   "outputs": [],
   "source": [
    "class GaussianProcess(object):\n",
    "\n",
    "    def __init__(self,kernel_func,*args):\n",
    "        \"\"\"\n",
    "            def __init__(self,kernel_func,*args):\n",
    "\n",
    "            Define prior function for the kernel of the Gaussian Process.\n",
    "                Minimum argument requirements:\n",
    "                    1D x length N NumPy array : x\n",
    "                    1D x length N NumPy array : y\n",
    "                Optional arguments accessible through:\n",
    "                    *self.args\n",
    "        \"\"\"\n",
    "        self.kernel = kernel_func\n",
    "        self.args = args\n",
    "        \n",
    "    def posterior(self,x_train,y_train,x_prior,samples=20,introduced_err=0.0):\n",
    "        \"\"\"\n",
    "            def posterior(self,x_train,y_train,x_prior,samples=20,introduced_err=0.0):\n",
    "\n",
    "            Gives posterior of Gaussian Process with previously instantiated kernel\n",
    "                Minimum argument requirements:\n",
    "                    1D x length N NumPy array : x_train\n",
    "                    1D x length N NumPy array : y_train\n",
    "                    1D x length N NumPy array : x_prior\n",
    "                Optional arguments:\n",
    "                    int number of processes to be sampled alongside plot, default 20\n",
    "                    float error/noise to be introduced, default 0.0\n",
    "        \n",
    "        \"\"\"\n",
    "        #Pass everything into class wide variables\n",
    "        self.x_train = x_train\n",
    "        self.y_train = y_train\n",
    "        self.x_prior = x_prior\n",
    "        self.samples = samples\n",
    "        self.introduced_err = introduced_err\n",
    "  \n",
    "        #Set up kernel matrices using prior kernel\n",
    "        k_tt = self.kernel(x_train , x_train, *self.args)\n",
    "        k_pp = self.kernel(x_prior , x_prior, *self.args)\n",
    "        k_pt = self.kernel(x_prior , x_train, *self.args)\n",
    "        k_tp = self.kernel(x_train , x_prior, *self.args) ## = k_tp transpose\n",
    "\n",
    "        # Calculate the mean\n",
    "        # X = x_train\n",
    "        # x* = x_prior\n",
    "        # Y = y_train\n",
    "        # I = identity matrix\n",
    "        # \\sigma = introduced_err\n",
    "        #\n",
    "        ###    \\mu =( k(x*,X).(k(X,X)+(\\sigma**2)*I)**-1 ). Y   ###\n",
    "        #\n",
    "        #\n",
    "        self.mean_function = np.dot(np.dot(k_pt ,np.linalg.inv(k_tt+((introduced_err**2)*np.eye(len(x_train))) )) , y_train)\n",
    "\n",
    "        # Calculate Covariance\n",
    "        #\n",
    "        ###    COV = k(x*,x*) - (k(x*,X)**-1).((k(X,X)+(\\sigma**2)*I)**-1)\n",
    "        self.covariance_function = k_pp - np.dot(np.dot(k_pt ,np.linalg.inv(k_tt + ((introduced_err**2)*np.eye(len(x_train))))) , k_tp)\n",
    "\n",
    "        # Calculate posterior\n",
    "        ## Randomly sample:\n",
    "        ##    N(\\mu,COV)\n",
    "        ## self.camples number of times\n",
    "        self.post = np.random.multivariate_normal(self.mean_function[:,0],self.covariance_function , self.samples)\n",
    "\n",
    "        # Calculate Standard deviation\n",
    "        ## Gaussian process therefore SD is diag of covariance function\n",
    "        self.std = np.diag(self.covariance_function)\n",
    "\n",
    "    \n",
    "    def plot(self,n_stds=2.):\n",
    "        \"\"\"\n",
    "            def plot(self,n_stds=2.):\n",
    "\n",
    "            Gives a standardised plot for the Gaussian process.\n",
    "            Optional arguments:\n",
    "                Float number of standard deviations to be shaded about mean, default 2.0\n",
    "        \n",
    "        \"\"\"\n",
    "\n",
    "        plt.figure()\n",
    "        fig1 = plt.gcf()\n",
    "\n",
    "        plt.plot(self.x_prior,self.post.T,'g-',alpha=0.1)\n",
    "\n",
    "        plt.errorbar(self.x_train,self.y_train, yerr=self.introduced_err,color='k',fmt='o')\n",
    "\n",
    "        plt.plot(self.x_prior , self.mean_function.flat, 'r-')\n",
    "        plt.fill_between(x = self.x_prior.flatten() , y1 = self.mean_function.flatten() + (n_stds*self.std),\n",
    "                        y2 = self.mean_function.flatten() - (n_stds*self.std), linestyle = '-.',alpha = 0.1)\n",
    "        plt.xlim(min(self.x_prior),max(self.x_prior))\n",
    "\n",
    "        plt.xlabel('x')\n",
    "        plt.ylabel('f(x)')  \n",
    "        strng = \"Posterior Probability of\"\n",
    "        strng2 = f\"Gaussian Process ML with {sigma:.2f} sigma noise\"\n",
    "        plt.title(strng + '\\n' + strng2)\n",
    "        plt.show()"
   ]
  },
  {
   "cell_type": "code",
   "execution_count": null,
   "metadata": {},
   "outputs": [],
   "source": []
  },
  {
   "cell_type": "code",
   "execution_count": 3,
   "metadata": {},
   "outputs": [],
   "source": [
    "def exp_kernel (x,y, *args):\n",
    "\tK = (args[0]**2) * np.exp((-0.5*(cdist(x,y)**2))/(args[1]**2))\n",
    "\treturn K"
   ]
  },
  {
   "cell_type": "code",
   "execution_count": 4,
   "metadata": {},
   "outputs": [],
   "source": [
    "x_prior = np.linspace(-10.0,20.0,500)\n",
    "x_prior = x_prior.reshape(-1,1)"
   ]
  },
  {
   "cell_type": "code",
   "execution_count": 5,
   "metadata": {},
   "outputs": [],
   "source": [
    "mu_data = np.zeros(x_prior.shape)\n",
    "#mu_data += prior_mu"
   ]
  },
  {
   "cell_type": "code",
   "execution_count": 6,
   "metadata": {},
   "outputs": [],
   "source": [
    "n_training_points = 25\n",
    "n_training_points += 1\n",
    "x_train = np.linspace(-10.,10.0,n_training_points)\n",
    "shuffle(x_train)\n",
    "x_train = x_train.reshape(-1,1)\n",
    "\n",
    "y_train = list(map(lambda x: np.cos(x),x_train))#np.exp((-1.)*(x**2)),x_train))#x: x**3 + x**2 + x + 1.,x_train))"
   ]
  },
  {
   "cell_type": "code",
   "execution_count": 7,
   "metadata": {},
   "outputs": [],
   "source": [
    "sigma = 0.5"
   ]
  },
  {
   "cell_type": "code",
   "execution_count": 8,
   "metadata": {},
   "outputs": [],
   "source": [
    "gp = GaussianProcess(exp_kernel,1.,1.)"
   ]
  },
  {
   "cell_type": "code",
   "execution_count": 9,
   "metadata": {},
   "outputs": [],
   "source": [
    "gp.posterior(x_train,y_train,x_prior)"
   ]
  },
  {
   "cell_type": "code",
   "execution_count": 10,
   "metadata": {},
   "outputs": [
    {
     "data": {
      "image/png": "[encoded data removed]",
      "text/plain": [
       "<Figure size 432x288 with 1 Axes>"
      ]
     },
     "metadata": {
      "needs_background": "light"
     },
     "output_type": "display_data"
    }
   ],
   "source": [
    "gp.plot()"
   ]
  },
  {
   "cell_type": "code",
   "execution_count": null,
   "metadata": {},
   "outputs": [],
   "source": []
  },
  {
   "cell_type": "code",
   "execution_count": null,
   "metadata": {},
   "outputs": [],
   "source": []
  },
  {
   "cell_type": "code",
   "execution_count": null,
   "metadata": {},
   "outputs": [],
   "source": []
  },
  {
   "cell_type": "code",
   "execution_count": null,
   "metadata": {},
   "outputs": [],
   "source": [
    "# def gaussian_process(kernel, mu, x, y, sigma, length_scale, samples):\n",
    "#     f = np.random.multivariate_normal(mu.flatten(), kernel(x,y, sigma, length_scale), samples)\n",
    "#     return f"
   ]
  },
  {
   "cell_type": "code",
   "execution_count": null,
   "metadata": {},
   "outputs": [],
   "source": [
    "# n_samples = 5\n",
    "# f = gaussian_process(exp_kernel, mu_data, x_prior, x_prior, sigma = 1.0, length_scale = 1.0, samples = n_samples)"
   ]
  },
  {
   "cell_type": "code",
   "execution_count": null,
   "metadata": {},
   "outputs": [],
   "source": [
    "# fig1=plt.gcf()\n",
    "# plt.plot(x_prior,f.T)\n",
    "# plt.xlabel('x')\n",
    "# plt.ylabel('f(x)')\n",
    "# strng = '{0} functions sampled from Gaussian Process'.format(n_samples)\n",
    "# plt.title(strng)\n",
    "# strng = strng.split(\" \")\n",
    "# strng = \"_\".join(strng)\n",
    "# print(strng)\n",
    "# # fig1.savefig(savepath + strng + \".png\")\n",
    "# plt.show()"
   ]
  },
  {
   "cell_type": "markdown",
   "metadata": {},
   "source": [
    "Now we have created our Gaussian Process, we have the possibility of accessing any function, centred in a gaussian about mu, with SD sigma, with each point in independent co-ordinate x being equally gaussian."
   ]
  },
  {
   "cell_type": "markdown",
   "metadata": {},
   "source": [
    "To show the trend of the GP with many samples:"
   ]
  },
  {
   "cell_type": "code",
   "execution_count": null,
   "metadata": {},
   "outputs": [],
   "source": [
    "# f2 = gaussian_process(exp_kernel, mu_data, x_prior, x_prior, sigma = 1.0, length_scale = 1.0, samples = 2000)\n",
    "\n",
    "# fig1=plt.gcf()\n",
    "# plt.plot(x_prior,f2.T, alpha=0.01, color = 'blue')\n",
    "# plt.xlabel('x')\n",
    "# plt.ylabel('f(x)')\n",
    "# strng = 'Gaussian Trend of many functions sampled from Gaussian Process'\n",
    "# plt.title(strng)\n",
    "# strng = strng.split(\" \")\n",
    "# strng = \"_\".join(strng)\n",
    "# print(strng)\n",
    "# # fig1.savefig(savepath + strng + \".png\")\n",
    "# plt.show()"
   ]
  },
  {
   "cell_type": "markdown",
   "metadata": {},
   "source": [
    "Now to do some learning! =D"
   ]
  },
  {
   "cell_type": "markdown",
   "metadata": {},
   "source": [
    "**p(y'|y) ~ N**( k(x',x) (k(x,x) + (sigma^2)I)^(-1) y **,** k(x',x') - k(x',x) (k + (sigma^2)I)^(-1) k(x,x).T)"
   ]
  },
  {
   "cell_type": "code",
   "execution_count": null,
   "metadata": {},
   "outputs": [],
   "source": [
    "def posterior(x_train,y_train,x_prior,samples,introduced_err=0.0):\n",
    "\n",
    "    k_tt = exp_kernel(x_train , x_train , 1.,1.)\n",
    "    k_pp = exp_kernel(x_prior , x_prior , 1.,1.)\n",
    "    k_pt = exp_kernel(x_prior , x_train , 1.,1.)\n",
    "    k_tp = exp_kernel(x_train , x_prior , 1.,1.) ## = k_tp transpose\n",
    "\n",
    "    mean_function = np.dot(np.dot(k_pt ,np.linalg.inv(k_tt+((introduced_err**2)*np.eye(len(x_train))) )) , y_train)\n",
    "\n",
    "    covariance_function = k_pp - np.dot(np.dot(k_pt ,np.linalg.inv(k_tt + ((introduced_err**2)*np.eye(len(x_train))))) , k_tp)\n",
    "\n",
    "    post = np.random.multivariate_normal(mean_function[:,0],covariance_function , samples)\n",
    "\n",
    "    std = np.diag(covariance_function)\n",
    "\n",
    "    return mean_function,covariance_function,post,std"
   ]
  },
  {
   "cell_type": "code",
   "execution_count": null,
   "metadata": {},
   "outputs": [],
   "source": [
    "for data_point in range(1,n_training_points+1,5):\n",
    "    mean_function,covariance_function,post,std = posterior(x_train[0:data_point] \\\n",
    "   ,y_train[0:data_point],x_prior,samples = 25, introduced_err= sigma)\n",
    "    \n",
    "    \n",
    "    plt.figure(data_point)\n",
    "    fig1 = plt.gcf()\n",
    "    \n",
    "    for i in range(len(post)):\n",
    "        plt.plot(x_prior,post[i,:],'g-',alpha=0.1)\n",
    "\n",
    "    plt.errorbar(x_train[0:data_point],y_train[0:data_point], yerr=sigma,color='k',fmt='o')\n",
    "\n",
    "    plt.plot(x_prior , mean_function.flat, 'r-')\n",
    "    plt.plot(x_prior , mean_function.flat + (2*std), 'b-.')\n",
    "    plt.plot(x_prior , mean_function.flat - (2*std), 'b-.')\n",
    "    plt.xlim(-10.,20.0)\n",
    "    \n",
    "#    y1 = mean_function[:,0] - (2*std)\n",
    "#    y2 = mean_function[:,0] - (2*std)\n",
    "\n",
    "    plt.xlabel('x')\n",
    "    plt.ylabel('f(x)')  \n",
    "    strng = f\"\"\"Posterior Probability after {data_point} data points\"\"\"\n",
    "    strng2 = f\"\"\"Gaussian Process ML with {sigma} sigma noise\"\"\"\n",
    "    plt.title(strng + '\\n' + strng2)\n",
    "    strng = strng + '_' + strng2\n",
    "    strng = strng.split(\" \")\n",
    "    strng = \"_\".join(strng)\n",
    "    print(strng)\n",
    "#     fig1.savefig(savepath + strng + \".png\")\n",
    "    plt.show()\n",
    "\n",
    "\n"
   ]
  },
  {
   "cell_type": "code",
   "execution_count": null,
   "metadata": {},
   "outputs": [],
   "source": []
  },
  {
   "cell_type": "code",
   "execution_count": null,
   "metadata": {},
   "outputs": [],
   "source": []
  }
 ],
 "metadata": {
  "kernelspec": {
   "display_name": "Python 3",
   "language": "python",
   "name": "python3"
  },
  "language_info": {
   "codemirror_mode": {
    "name": "ipython",
    "version": 3
   },
   "file_extension": ".py",
   "mimetype": "text/x-python",
   "name": "python",
   "nbconvert_exporter": "python",
   "pygments_lexer": "ipython3",
   "version": "3.7.3"
  }
 },
 "nbformat": 4,
 "nbformat_minor": 2
}
